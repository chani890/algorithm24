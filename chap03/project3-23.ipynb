{
 "cells": [
  {
   "cell_type": "markdown",
   "metadata": {},
   "source": [
    "(1) 인접 행렬\n",
    "adjMat = \n",
    "\n",
    "[ [ 0, 1, 0, 1, 1, 0, 0 ],  \n",
    "  [ 1, 0, 1, 0, 1, 1, 0 ],  \n",
    "  [ 0, 1, 0, 0, 0, 0, 1 ],  \n",
    "  [ 1, 0, 0, 0, 1, 0, 0 ],  \n",
    "  [ 1, 1, 0, 1, 0, 0, 0 ],  \n",
    "  [ 0, 1, 0, 0, 0, 0, 1 ],  \n",
    "  [ 0, 0, 1, 0, 0, 1, 0 ]]\n"
   ]
  },
  {
   "cell_type": "markdown",
   "metadata": {},
   "source": [
    "(2) 인접 리스트,  \n",
    "A =  { ‘A’ : {‘D’, ‘E’, ‘E’},  \n",
    "‘B’ : {‘A’, ‘C’, ‘E’, ‘F’},  \n",
    "‘C’ : {‘B’, ‘G’},  \n",
    "‘D’ : {‘A’, ‘E’},  \n",
    "‘E’ : {‘A’, ‘B’, ‘D’},  \n",
    "‘F’ : {‘B’, ‘G’},  \n",
    "‘G’ : {‘C’, ‘F’} }"
   ]
  },
  {
   "cell_type": "markdown",
   "metadata": {},
   "source": [
    "(3) A-B-C-G-F-E-D"
   ]
  },
  {
   "cell_type": "markdown",
   "metadata": {},
   "source": [
    "(4) F  "
   ]
  },
  {
   "cell_type": "markdown",
   "metadata": {},
   "source": [
    "(5) A-B-D-E-C-F-G"
   ]
  }
 ],
 "metadata": {
  "language_info": {
   "name": "python"
  },
  "orig_nbformat": 4
 },
 "nbformat": 4,
 "nbformat_minor": 2
}
